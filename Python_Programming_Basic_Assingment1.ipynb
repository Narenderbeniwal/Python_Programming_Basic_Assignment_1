{
  "nbformat": 4,
  "nbformat_minor": 0,
  "metadata": {
    "colab": {
      "name": "Python_Programming_Basic_Assingment1.ipynb",
      "provenance": []
    },
    "kernelspec": {
      "name": "python3",
      "display_name": "Python 3"
    },
    "language_info": {
      "name": "python"
    }
  },
  "cells": [
    {
      "cell_type": "code",
      "metadata": {
        "colab": {
          "base_uri": "https://localhost:8080/"
        },
        "id": "bBwX9tcMNKRg",
        "outputId": "9159191c-09c5-402e-de25-7277f2085f7e"
      },
      "source": [
        "\t## \tWrite a Python program to print \"Hello Python\"?\n",
        "print(\"Hello\")\n",
        "\t\n"
      ],
      "execution_count": 5,
      "outputs": [
        {
          "output_type": "stream",
          "text": [
            "Hello\n"
          ],
          "name": "stdout"
        }
      ]
    },
    {
      "cell_type": "code",
      "metadata": {
        "colab": {
          "base_uri": "https://localhost:8080/"
        },
        "id": "DIGB0lOmOQdg",
        "outputId": "f2c97a87-6068-4f8a-91ff-0e28d46ee3cc"
      },
      "source": [
        "## Write a Python program to do arithmetical operations addition and division.?\n",
        "a= 4\n",
        "b = 10\n",
        "print(a+b)\n",
        "print(a*b)\n",
        "print(a/b)"
      ],
      "execution_count": 7,
      "outputs": [
        {
          "output_type": "stream",
          "text": [
            "14\n",
            "40\n",
            "0.4\n"
          ],
          "name": "stdout"
        }
      ]
    },
    {
      "cell_type": "code",
      "metadata": {
        "colab": {
          "base_uri": "https://localhost:8080/"
        },
        "id": "ve8PkUbDOivc",
        "outputId": "cfff2cfe-cde8-44c0-81b6-3c3bed49fd10"
      },
      "source": [
        "## \tWrite a Python program to find the area of a triangle?\n",
        "a = int(input('Enter first side: '))\n",
        "b = int(input('Enter second side: '))\n",
        "c = int(input('Enter third side: '))\n",
        "s= (a+b+c)/2\n",
        "area = (s*(s-a)*(s-b)*(s-c)) ** 0.5\n",
        "\n",
        "print(area)"
      ],
      "execution_count": 16,
      "outputs": [
        {
          "output_type": "stream",
          "text": [
            "Enter first side: 8\n",
            "Enter second side: 10\n",
            "Enter third side: 12\n",
            "39.68626966596886\n"
          ],
          "name": "stdout"
        }
      ]
    },
    {
      "cell_type": "code",
      "metadata": {
        "colab": {
          "base_uri": "https://localhost:8080/"
        },
        "id": "6TbLiQFwQyC9",
        "outputId": "f712fb67-032b-4355-c34e-e166f137a744"
      },
      "source": [
        "## Write a Python program to swap two variables?\n",
        "x = 5\n",
        "y = 10\n",
        "\n",
        "x, y = y, x\n",
        "print(\"x =\", x)\n",
        "print(\"y =\", y)"
      ],
      "execution_count": 22,
      "outputs": [
        {
          "output_type": "stream",
          "text": [
            "x = 10\n",
            "y = 5\n"
          ],
          "name": "stdout"
        }
      ]
    },
    {
      "cell_type": "code",
      "metadata": {
        "colab": {
          "base_uri": "https://localhost:8080/"
        },
        "id": "DMxxdHXgP_Hi",
        "outputId": "bd712f0e-a104-467d-9b7d-1c292e4fabd0"
      },
      "source": [
        "## Write a Python program to generate a random number?\n",
        "import random\n",
        "list1 = [1, 2, 3, 4, 5, 6]\n",
        "print(random.choice(list1))"
      ],
      "execution_count": 27,
      "outputs": [
        {
          "output_type": "stream",
          "text": [
            "6\n"
          ],
          "name": "stdout"
        }
      ]
    },
    {
      "cell_type": "code",
      "metadata": {
        "id": "5GQ74qrPQc-P"
      },
      "source": [
        ""
      ],
      "execution_count": 24,
      "outputs": []
    }
  ]
}